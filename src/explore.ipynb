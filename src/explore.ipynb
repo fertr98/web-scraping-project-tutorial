{
    "cells": [
        {
            "cell_type": "markdown",
            "metadata": {},
            "source": [
                "# Explore here\n",
                "\n"
            ]
        },
        {
            "cell_type": "code",
            "execution_count": 1,
            "metadata": {},
            "outputs": [],
            "source": [
                "#Step 1: Install dependencies\n",
                "\n",
                "import requests\n",
                "import time\n",
                "from bs4 import BeautifulSoup\n",
                "from urllib.request import Request, urlopen\n",
                "\n",
                "#Step 2: Download HTML\n",
                "\n",
                "url = \"https://www.macrotrends.net/stocks/charts/TSLA/tesla/revenue\"\n",
                "data = requests.get(url, time.sleep(10)).text\n",
                "\n",
                "#Step 3: Transform the HTML\n",
                "\n",
                "hdr = {'User-Agent': 'Mozilla/5.0'}\n",
                "req = Request(url, headers=hdr)\n",
                "page = urlopen(req)\n",
                "soup = BeautifulSoup(page, 'html.parser')\n",
                "\n",
                "#Find all tables\n",
                "\n",
                "df_tesla = soup.find_all(\"table\", {\"class\": \"col-xs-6\"})\n",
                "\n"
            ]
        },
        {
            "cell_type": "markdown",
            "metadata": {},
            "source": [
                "Step 5: Store the data in sqlite "
            ]
        },
        {
            "cell_type": "code",
            "execution_count": null,
            "metadata": {},
            "outputs": [],
            "source": []
        }
    ],
    "metadata": {
        "kernelspec": {
            "display_name": "Python 3.8.13 64-bit ('3.8.13')",
            "language": "python",
            "name": "python3"
        },
        "language_info": {
            "codemirror_mode": {
                "name": "ipython",
                "version": 3
            },
            "file_extension": ".py",
            "mimetype": "text/x-python",
            "name": "python",
            "nbconvert_exporter": "python",
            "pygments_lexer": "ipython3",
            "version": "3.11.4"
        },
        "orig_nbformat": 4,
        "vscode": {
            "interpreter": {
                "hash": "110cc1dee26208153f2972f08a2ad52b6a56238dc66d48e87fb757ef2996db56"
            }
        }
    },
    "nbformat": 4,
    "nbformat_minor": 2
}
